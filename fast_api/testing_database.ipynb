{
 "cells": [
  {
   "cell_type": "code",
   "execution_count": 18,
   "metadata": {},
   "outputs": [
    {
     "name": "stdout",
     "output_type": "stream",
     "text": [
      "<sqlite3.Connection object at 0x00000164E74C6040>\n"
     ]
    }
   ],
   "source": [
    "import sqlite3\n",
    "\n",
    "db = sqlite3.connect('test.db')\n",
    "\n",
    "print(db)"
   ]
  },
  {
   "cell_type": "code",
   "execution_count": 19,
   "metadata": {},
   "outputs": [
    {
     "ename": "AttributeError",
     "evalue": "'sqlite3.Connection' object has no attribute 'keys'",
     "output_type": "error",
     "traceback": [
      "\u001b[1;31m---------------------------------------------------------------------------\u001b[0m",
      "\u001b[1;31mAttributeError\u001b[0m                            Traceback (most recent call last)",
      "Cell \u001b[1;32mIn[19], line 1\u001b[0m\n\u001b[1;32m----> 1\u001b[0m \u001b[43mdb\u001b[49m\u001b[38;5;241;43m.\u001b[39;49m\u001b[43mkeys\u001b[49m()\n",
      "\u001b[1;31mAttributeError\u001b[0m: 'sqlite3.Connection' object has no attribute 'keys'"
     ]
    }
   ],
   "source": [
    "db.keys()"
   ]
  },
  {
   "cell_type": "code",
   "execution_count": 20,
   "metadata": {},
   "outputs": [],
   "source": [
    "cursor = db.cursor()\n",
    "\n",
    "# Execute a query to get the schema of all tables\n",
    "cursor.execute(\"SELECT name, sql FROM sqlite_master WHERE type='table'\")\n",
    "\n",
    "# Fetch all the results\n",
    "tables = cursor.fetchall()\n",
    "\n",
    "schema = []\n",
    "# Print the schema of each table\n",
    "for table in tables:\n",
    "    temp = ''\n",
    "    temp += f\"Table Name: {table[0]}\"\n",
    "    temp += f\"\\nSchema: \\n{table[1]}\"\n",
    "    temp+='\\n'\n",
    "    schema.append(temp)\n",
    "\n",
    "# Close the cursor and connection\n",
    "cursor.close()\n",
    "db.close()"
   ]
  },
  {
   "cell_type": "code",
   "execution_count": 21,
   "metadata": {},
   "outputs": [
    {
     "name": "stdout",
     "output_type": "stream",
     "text": [
      "('Employees', 'CREATE TABLE Employees (\\n    EmployeeID INT PRIMARY KEY,\\n    Name VARCHAR(100),\\n    JobTitle VARCHAR(100),\\n    DepartmentID INT,\\n    Salary DECIMAL(10, 2),\\n    FOREIGN KEY (DepartmentID) REFERENCES Departments(DepartmentID)\\n)')\n"
     ]
    }
   ],
   "source": [
    "print(tables[0])"
   ]
  },
  {
   "cell_type": "code",
   "execution_count": 22,
   "metadata": {},
   "outputs": [
    {
     "name": "stdout",
     "output_type": "stream",
     "text": [
      "Table Name: Employees\n",
      "Schema: \n",
      "CREATE TABLE Employees (\n",
      "    EmployeeID INT PRIMARY KEY,\n",
      "    Name VARCHAR(100),\n",
      "    JobTitle VARCHAR(100),\n",
      "    DepartmentID INT,\n",
      "    Salary DECIMAL(10, 2),\n",
      "    FOREIGN KEY (DepartmentID) REFERENCES Departments(DepartmentID)\n",
      ")\n",
      "\n"
     ]
    }
   ],
   "source": [
    "print(schema[0])"
   ]
  },
  {
   "cell_type": "code",
   "execution_count": null,
   "metadata": {},
   "outputs": [],
   "source": []
  }
 ],
 "metadata": {
  "kernelspec": {
   "display_name": ".venv",
   "language": "python",
   "name": "python3"
  },
  "language_info": {
   "codemirror_mode": {
    "name": "ipython",
    "version": 3
   },
   "file_extension": ".py",
   "mimetype": "text/x-python",
   "name": "python",
   "nbconvert_exporter": "python",
   "pygments_lexer": "ipython3",
   "version": "3.10.0"
  }
 },
 "nbformat": 4,
 "nbformat_minor": 2
}
